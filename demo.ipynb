{
 "cells": [
  {
   "cell_type": "markdown",
   "metadata": {},
   "source": [
    "# RAG System Demo - Energy Sector Data Analysis\n",
    "\n",
    "This notebook demonstrates the capabilities of the RAG system for analyzing energy sector data from Excel files.\n",
    "\n",
    "## Contents\n",
    "1. Setup and Installation\n",
    "2. Create Sample Data\n",
    "3. Initialize RAG System\n",
    "4. Index Documents\n",
    "5. Perform Searches\n",
    "6. Generate Reports\n",
    "7. Advanced Features"
   ]
  },
  {
   "cell_type": "markdown",
   "metadata": {},
   "source": [
    "## 1. Setup and Installation"
   ]
  },
  {
   "cell_type": "code",
   "execution_count": null,
   "metadata": {},
   "outputs": [],
   "source": [
    "# Import required libraries\n",
    "import sys\n",
    "import os\n",
    "from pathlib import Path\n",
    "\n",
    "# Add src to path\n",
    "sys.path.insert(0, str(Path.cwd()))\n",
    "\n",
    "# Import RAG system components\n",
    "from src import RAGSystem, setup_logging\n",
    "from src.utils import load_config\n",
    "\n",
    "# Setup logging\n",
    "setup_logging(log_level=\"INFO\")\n",
    "\n",
    "print(\"✓ Imports successful\")"
   ]
  },
  {
   "cell_type": "markdown",
   "metadata": {},
   "source": [
    "## 2. Create Sample Data\n",
    "\n",
    "First, let's create some sample Excel files for testing."
   ]
  },
  {
   "cell_type": "code",
   "execution_count": null,
   "metadata": {},
   "outputs": [],
   "source": [
    "# Run the sample data creation script\n",
    "!python create_sample_excel.py"
   ]
  },
  {
   "cell_type": "markdown",
   "metadata": {},
   "source": [
    "## 3. Initialize RAG System"
   ]
  },
  {
   "cell_type": "code",
   "execution_count": null,
   "metadata": {},
   "outputs": [],
   "source": [
    "# Initialize RAG system\n",
    "rag = RAGSystem(\n",
    "    input_dir=\"./data/input\",\n",
    "    prompts_dir=\"./prompts\",\n",
    "    embeddings_dir=\"./embeddings\",\n",
    "    config_path=\"./config/config.yaml\"\n",
    ")\n",
    "\n",
    "print(\"✓ RAG System initialized\")\n",
    "print(rag)"
   ]
  },
  {
   "cell_type": "code",
   "execution_count": null,
   "metadata": {},
   "outputs": [],
   "source": [
    "# Initialize components\n",
    "# Note: This will use OpenAI by default. Make sure you have OPENAI_API_KEY in .env\n",
    "# Or set use_chromadb=True and llm_provider to None to skip LLM initialization\n",
    "\n",
    "try:\n",
    "    rag.initialize_components(\n",
    "        embedding_model=\"sentence-transformers/paraphrase-multilingual-mpnet-base-v2\"\n",
    "    )\n",
    "    print(\"✓ Components initialized (including LLM)\")\n",
    "except Exception as e:\n",
    "    print(f\"⚠ Could not initialize LLM: {e}\")\n",
    "    print(\"System will work for search, but answer generation will be limited\")"
   ]
  },
  {
   "cell_type": "markdown",
   "metadata": {},
   "source": [
    "## 4. Index Documents"
   ]
  },
  {
   "cell_type": "code",
   "execution_count": null,
   "metadata": {},
   "outputs": [],
   "source": [
    "# Index all Excel documents\n",
    "num_docs = rag.index_documents(force_reindex=True)\n",
    "\n",
    "print(f\"\\n✓ Indexed {num_docs} documents\")"
   ]
  },
  {
   "cell_type": "code",
   "execution_count": null,
   "metadata": {},
   "outputs": [],
   "source": [
    "# Get system statistics\n",
    "stats = rag.get_statistics()\n",
    "\n",
    "import pprint\n",
    "pprint.pprint(stats)"
   ]
  },
  {
   "cell_type": "markdown",
   "metadata": {},
   "source": [
    "## 5. Perform Searches\n",
    "\n",
    "### 5.1 Simple Search"
   ]
  },
  {
   "cell_type": "code",
   "execution_count": null,
   "metadata": {},
   "outputs": [],
   "source": [
    "# Search for wind energy suppliers\n",
    "results = rag.search(\"furnizori energie eoliană\", top_k=5)\n",
    "\n",
    "print(f\"Found {len(results)} results:\\n\")\n",
    "\n",
    "for i, result in enumerate(results, 1):\n",
    "    metadata = result[\"metadata\"]\n",
    "    score = result.get(\"score\", 0)\n",
    "    \n",
    "    print(f\"{i}. {metadata.get('client_name', 'N/A')} (Score: {score:.3f})\")\n",
    "    print(f\"   Source Type: {metadata.get('source_type')}\")\n",
    "    print(f\"   Power: {metadata.get('power_installed')} MW\")\n",
    "    print(f\"   Location: {metadata.get('address')}\")\n",
    "    print()"
   ]
  },
  {
   "cell_type": "markdown",
   "metadata": {},
   "source": [
    "### 5.2 Search with Filters"
   ]
  },
  {
   "cell_type": "code",
   "execution_count": null,
   "metadata": {},
   "outputs": [],
   "source": [
    "# Search with power filter\n",
    "results = rag.search(\n",
    "    \"furnizori energie regenerabilă\",\n",
    "    top_k=10,\n",
    "    filters={\n",
    "        \"power_installed\": {\"min\": 50}  # At least 50 MW\n",
    "    }\n",
    ")\n",
    "\n",
    "print(f\"Found {len(results)} suppliers with power >= 50 MW:\\n\")\n",
    "\n",
    "for i, result in enumerate(results, 1):\n",
    "    metadata = result[\"metadata\"]\n",
    "    print(f\"{i}. {metadata.get('client_name')}: {metadata.get('power_installed')} MW\")"
   ]
  },
  {
   "cell_type": "markdown",
   "metadata": {},
   "source": [
    "### 5.3 Full Query with LLM"
   ]
  },
  {
   "cell_type": "code",
   "execution_count": null,
   "metadata": {},
   "outputs": [],
   "source": [
    "# Full RAG query with answer generation\n",
    "question = \"Care sunt furnizorii de energie eoliană și cât reprezintă puterea lor totală?\"\n",
    "\n",
    "answer = rag.query(question, top_k=5)\n",
    "\n",
    "print(\"Question:\", question)\n",
    "print(\"\\nAnswer:\")\n",
    "print(answer)"
   ]
  },
  {
   "cell_type": "markdown",
   "metadata": {},
   "source": [
    "### 5.4 Comparison Query"
   ]
  },
  {
   "cell_type": "code",
   "execution_count": null,
   "metadata": {},
   "outputs": [],
   "source": [
    "# Compare different energy sources\n",
    "question = \"Compară furnizorii de energie eoliană cu cei de energie solară\"\n",
    "\n",
    "answer = rag.query(question, top_k=10)\n",
    "\n",
    "print(\"Question:\", question)\n",
    "print(\"\\nAnswer:\")\n",
    "print(answer)"
   ]
  },
  {
   "cell_type": "markdown",
   "metadata": {},
   "source": [
    "## 6. Generate Reports"
   ]
  },
  {
   "cell_type": "code",
   "execution_count": null,
   "metadata": {},
   "outputs": [],
   "source": [
    "# Generate a comprehensive report\n",
    "report = rag.generate_report(\n",
    "    query=\"analiza completă furnizori energie regenerabilă\",\n",
    "    output_path=\"./outputs/raport_energie_regenerabila.md\",\n",
    "    include_summary=True\n",
    ")\n",
    "\n",
    "print(\"Report generated!\\n\")\n",
    "print(report[:1000] + \"...\\n\\n[Report truncated for display]\")"
   ]
  },
  {
   "cell_type": "markdown",
   "metadata": {},
   "source": [
    "## 7. Advanced Features\n",
    "\n",
    "### 7.1 Aggregate Statistics"
   ]
  },
  {
   "cell_type": "code",
   "execution_count": null,
   "metadata": {},
   "outputs": [],
   "source": [
    "# Get all results and aggregate by source type\n",
    "results = rag.search(\"furnizori energie\", top_k=20)\n",
    "\n",
    "if rag.hybrid_retriever:\n",
    "    stats = rag.hybrid_retriever.aggregate_statistics(results, \"source_type\")\n",
    "    \n",
    "    print(\"Statistics by Source Type:\\n\")\n",
    "    for source_type, data in stats.items():\n",
    "        print(f\"{source_type}:\")\n",
    "        print(f\"  Count: {data['count']}\")\n",
    "        print(f\"  Total Power: {data['total_power']:.2f} MW\")\n",
    "        print(f\"  Average Score: {data['avg_score']:.3f}\")\n",
    "        print()"
   ]
  },
  {
   "cell_type": "markdown",
   "metadata": {},
   "source": [
    "### 7.2 Data Export"
   ]
  },
  {
   "cell_type": "code",
   "execution_count": null,
   "metadata": {},
   "outputs": [],
   "source": [
    "# Export loaded data to DataFrame\n",
    "import pandas as pd\n",
    "\n",
    "df = rag.data_loader.to_dataframe()\n",
    "\n",
    "print(f\"Loaded {len(df)} records\\n\")\n",
    "print(\"Sample data:\")\n",
    "df.head()"
   ]
  },
  {
   "cell_type": "code",
   "execution_count": null,
   "metadata": {},
   "outputs": [],
   "source": [
    "# Distribution of power by source type\n",
    "import matplotlib.pyplot as plt\n",
    "\n",
    "if 'source_type' in df.columns and 'power_installed' in df.columns:\n",
    "    power_by_source = df.groupby('source_type')['power_installed'].sum()\n",
    "    \n",
    "    plt.figure(figsize=(10, 6))\n",
    "    power_by_source.plot(kind='bar')\n",
    "    plt.title('Total Installed Power by Source Type')\n",
    "    plt.xlabel('Source Type')\n",
    "    plt.ylabel('Power (MW)')\n",
    "    plt.xticks(rotation=45)\n",
    "    plt.tight_layout()\n",
    "    plt.show()"
   ]
  },
  {
   "cell_type": "markdown",
   "metadata": {},
   "source": [
    "### 7.3 Custom Prompts"
   ]
  },
  {
   "cell_type": "code",
   "execution_count": null,
   "metadata": {},
   "outputs": [],
   "source": [
    "# Load custom prompts\n",
    "system_prompts = rag.prompt_loader.load_system_prompts()\n",
    "user_prompts = rag.prompt_loader.load_user_prompts()\n",
    "\n",
    "print(\"Available system prompts:\")\n",
    "for name in system_prompts.keys():\n",
    "    print(f\"  - {name}\")\n",
    "\n",
    "print(\"\\nAvailable user prompts:\")\n",
    "for name in user_prompts.keys():\n",
    "    print(f\"  - {name}\")"
   ]
  },
  {
   "cell_type": "code",
   "execution_count": null,
   "metadata": {},
   "outputs": [],
   "source": [
    "# Use custom prompts for query\n",
    "if system_prompts and user_prompts:\n",
    "    answer = rag.query(\n",
    "        \"Care este cel mai mare furnizor de energie?\",\n",
    "        top_k=5,\n",
    "        system_prompt=system_prompts.get('system_analysis', ''),\n",
    "        user_prompt_template=user_prompts.get('user_report_template', '')\n",
    "    )\n",
    "    \n",
    "    print(answer)"
   ]
  },
  {
   "cell_type": "markdown",
   "metadata": {},
   "source": [
    "## 8. Save and Load Index"
   ]
  },
  {
   "cell_type": "code",
   "execution_count": null,
   "metadata": {},
   "outputs": [],
   "source": [
    "# Save the current index\n",
    "rag.save_index()\n",
    "print(\"✓ Index saved\")"
   ]
  },
  {
   "cell_type": "code",
   "execution_count": null,
   "metadata": {},
   "outputs": [],
   "source": [
    "# Create a new RAG instance and load existing index\n",
    "rag_loaded = RAGSystem(\n",
    "    prompts_dir=\"./prompts\",\n",
    "    embeddings_dir=\"./embeddings\",\n",
    "    config_path=\"./config/config.yaml\"\n",
    ")\n",
    "\n",
    "rag_loaded.initialize_components()\n",
    "rag_loaded.load_index()\n",
    "\n",
    "print(\"✓ Index loaded\")\n",
    "print(f\"Loaded {len(rag_loaded.metadata)} documents\")"
   ]
  },
  {
   "cell_type": "markdown",
   "metadata": {},
   "source": [
    "## Conclusion\n",
    "\n",
    "This notebook demonstrated:\n",
    "- Setting up the RAG system\n",
    "- Creating and indexing sample data\n",
    "- Performing various types of searches\n",
    "- Generating reports\n",
    "- Using advanced features like filtering and aggregation\n",
    "- Working with custom prompts\n",
    "- Saving and loading indexes\n",
    "\n",
    "For more information, see the [README.md](README.md) file."
   ]
  }
 ],
 "metadata": {
  "kernelspec": {
   "display_name": "Python 3",
   "language": "python",
   "name": "python3"
  },
  "language_info": {
   "codemirror_mode": {
    "name": "ipython",
    "version": 3
   },
   "file_extension": ".py",
   "mimetype": "text/x-python",
   "name": "python",
   "nbconvert_exporter": "python",
   "pygments_lexer": "ipython3",
   "version": "3.9.0"
  }
 },
 "nbformat": 4,
 "nbformat_minor": 4
}
